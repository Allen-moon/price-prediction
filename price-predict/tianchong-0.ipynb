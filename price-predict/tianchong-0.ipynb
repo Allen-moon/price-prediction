{
 "cells": [
  {
   "cell_type": "code",
   "execution_count": 168,
   "metadata": {
    "collapsed": false
   },
   "outputs": [],
   "source": [
    "from time import time\n",
    "import csv\n",
    "from sklearn.cluster import k_means\n",
    "import numpy as np\n",
    "import pandas as pd\n",
    "import matplotlib.pyplot as plt\n",
    "from sklearn.cross_validation import train_test_split\n",
    "import matplotlib.pyplot as plt\n",
    "from sklearn import preprocessing\n",
    "from sklearn import svm\n",
    "from sklearn import linear_model\n",
    "from sklearn import ensemble\n",
    "from math import sqrt\n",
    "from numpy import nan as NA"
   ]
  },
  {
   "cell_type": "code",
   "execution_count": 169,
   "metadata": {
    "collapsed": false
   },
   "outputs": [],
   "source": [
    "data = pd.read_csv('pb.csv')"
   ]
  },
  {
   "cell_type": "code",
   "execution_count": 170,
   "metadata": {
    "collapsed": false
   },
   "outputs": [],
   "source": [
    "data = data.replace('-',-1)"
   ]
  },
  {
   "cell_type": "code",
   "execution_count": 171,
   "metadata": {
    "collapsed": false
   },
   "outputs": [],
   "source": [
    "data = data.fillna(-1)\n",
    "flag_fore = 0\n",
    "flag_late = 0\n",
    "flag_n = 0\n",
    "step = 0\n"
   ]
  },
  {
   "cell_type": "code",
   "execution_count": 172,
   "metadata": {
    "collapsed": false
   },
   "outputs": [],
   "source": [
    "# c = data['date']\n",
    "# data = data.drop('date',axis=1)"
   ]
  },
  {
   "cell_type": "code",
   "execution_count": 173,
   "metadata": {
    "collapsed": false
   },
   "outputs": [],
   "source": [
    "for j in range(len(data.columns)):\n",
    "    for i in range(len(data.index)):\n",
    "        if  data.ix[i,j] == -1:\n",
    "            flag_fore = i-1\n",
    "            flag_late = i+1\n",
    "            data.ix[i,j]\n",
    "            while(data.ix[flag_fore,j] == -1):\n",
    "                flag_fore = flag_fore-1\n",
    "                if data.ix[flag_fore,j]>0:\n",
    "                    break\n",
    "            while(data.ix[flag_late,j] == -1):\n",
    "                flag_late = flag_late+1\n",
    "                if data.ix[flag_late,j]>0:\n",
    "                    break\n",
    "            flag_n = flag_late - flag_fore \n",
    "            step = (data.ix[flag_late,j] - data.ix[flag_fore,j])/flag_n\n",
    "            step_len = 0\n",
    "            for k in range(flag_fore+1,flag_late):\n",
    "#                 print(k)\n",
    "                step_len = step_len + 1\n",
    "                data.ix[k,j] = data.ix[flag_fore,j] + step*step_len\n",
    "                data.ix[k,j] = round(data.ix[k,j],1)\n",
    "#             print(i,j,flag_fore,flag_late,data.ix[i,j],data.ix[flag_fore,j],data.ix[flag_late,j])\n",
    "            \n",
    "        "
   ]
  },
  {
   "cell_type": "code",
   "execution_count": 174,
   "metadata": {
    "collapsed": true
   },
   "outputs": [],
   "source": [
    "data = data.drop('Unnamed: 0',axis=1)"
   ]
  },
  {
   "cell_type": "code",
   "execution_count": 175,
   "metadata": {
    "collapsed": false
   },
   "outputs": [
    {
     "data": {
      "text/plain": [
       "(1057, 14)"
      ]
     },
     "execution_count": 175,
     "metadata": {},
     "output_type": "execute_result"
    }
   ],
   "source": [
    "data.shape"
   ]
  },
  {
   "cell_type": "code",
   "execution_count": 176,
   "metadata": {
    "collapsed": false
   },
   "outputs": [
    {
     "data": {
      "text/html": [
       "<div>\n",
       "<table border=\"1\" class=\"dataframe\">\n",
       "  <thead>\n",
       "    <tr style=\"text-align: right;\">\n",
       "      <th></th>\n",
       "      <th>date</th>\n",
       "      <th>PB_price</th>\n",
       "      <th>tegang_zonghe_zhishu</th>\n",
       "      <th>gangtie_cugang</th>\n",
       "      <th>gangtie_gangcai</th>\n",
       "      <th>haiyun_BDI</th>\n",
       "      <th>haiyun_BDTI</th>\n",
       "      <th>meiyuan_zhishu</th>\n",
       "      <th>psjgzs</th>\n",
       "      <th>pugang_zhishu</th>\n",
       "      <th>tkszs</th>\n",
       "      <th>WTI</th>\n",
       "      <th>CRU</th>\n",
       "      <th>fgzs</th>\n",
       "    </tr>\n",
       "  </thead>\n",
       "  <tbody>\n",
       "    <tr>\n",
       "      <th>0</th>\n",
       "      <td>2013/7/10</td>\n",
       "      <td>965.0</td>\n",
       "      <td>96.6</td>\n",
       "      <td>210.21</td>\n",
       "      <td>294.03</td>\n",
       "      <td>1130.0</td>\n",
       "      <td>611.0</td>\n",
       "      <td>84.23</td>\n",
       "      <td>124.0</td>\n",
       "      <td>128.31</td>\n",
       "      <td>120.3</td>\n",
       "      <td>105.62</td>\n",
       "      <td>163.4</td>\n",
       "      <td>2413.6</td>\n",
       "    </tr>\n",
       "    <tr>\n",
       "      <th>1</th>\n",
       "      <td>2013/7/11</td>\n",
       "      <td>965.0</td>\n",
       "      <td>96.6</td>\n",
       "      <td>210.50</td>\n",
       "      <td>294.80</td>\n",
       "      <td>1139.0</td>\n",
       "      <td>613.0</td>\n",
       "      <td>82.92</td>\n",
       "      <td>126.5</td>\n",
       "      <td>128.46</td>\n",
       "      <td>120.3</td>\n",
       "      <td>104.38</td>\n",
       "      <td>163.6</td>\n",
       "      <td>2413.6</td>\n",
       "    </tr>\n",
       "    <tr>\n",
       "      <th>2</th>\n",
       "      <td>2013/7/12</td>\n",
       "      <td>975.0</td>\n",
       "      <td>96.7</td>\n",
       "      <td>210.80</td>\n",
       "      <td>295.50</td>\n",
       "      <td>1149.0</td>\n",
       "      <td>612.0</td>\n",
       "      <td>83.16</td>\n",
       "      <td>128.0</td>\n",
       "      <td>128.87</td>\n",
       "      <td>121.6</td>\n",
       "      <td>105.55</td>\n",
       "      <td>163.7</td>\n",
       "      <td>2415.6</td>\n",
       "    </tr>\n",
       "    <tr>\n",
       "      <th>3</th>\n",
       "      <td>2013/7/13</td>\n",
       "      <td>976.7</td>\n",
       "      <td>96.8</td>\n",
       "      <td>211.10</td>\n",
       "      <td>296.30</td>\n",
       "      <td>1149.7</td>\n",
       "      <td>611.7</td>\n",
       "      <td>83.20</td>\n",
       "      <td>128.3</td>\n",
       "      <td>129.10</td>\n",
       "      <td>121.9</td>\n",
       "      <td>105.70</td>\n",
       "      <td>163.9</td>\n",
       "      <td>2416.3</td>\n",
       "    </tr>\n",
       "    <tr>\n",
       "      <th>4</th>\n",
       "      <td>2013/7/14</td>\n",
       "      <td>978.3</td>\n",
       "      <td>96.8</td>\n",
       "      <td>211.30</td>\n",
       "      <td>297.00</td>\n",
       "      <td>1150.3</td>\n",
       "      <td>611.3</td>\n",
       "      <td>83.20</td>\n",
       "      <td>128.7</td>\n",
       "      <td>129.30</td>\n",
       "      <td>122.2</td>\n",
       "      <td>105.80</td>\n",
       "      <td>164.0</td>\n",
       "      <td>2417.1</td>\n",
       "    </tr>\n",
       "  </tbody>\n",
       "</table>\n",
       "</div>"
      ],
      "text/plain": [
       "        date  PB_price  tegang_zonghe_zhishu  gangtie_cugang  gangtie_gangcai  \\\n",
       "0  2013/7/10     965.0                  96.6          210.21           294.03   \n",
       "1  2013/7/11     965.0                  96.6          210.50           294.80   \n",
       "2  2013/7/12     975.0                  96.7          210.80           295.50   \n",
       "3  2013/7/13     976.7                  96.8          211.10           296.30   \n",
       "4  2013/7/14     978.3                  96.8          211.30           297.00   \n",
       "\n",
       "   haiyun_BDI  haiyun_BDTI  meiyuan_zhishu  psjgzs  pugang_zhishu  tkszs  \\\n",
       "0      1130.0        611.0           84.23   124.0         128.31  120.3   \n",
       "1      1139.0        613.0           82.92   126.5         128.46  120.3   \n",
       "2      1149.0        612.0           83.16   128.0         128.87  121.6   \n",
       "3      1149.7        611.7           83.20   128.3         129.10  121.9   \n",
       "4      1150.3        611.3           83.20   128.7         129.30  122.2   \n",
       "\n",
       "      WTI    CRU    fgzs  \n",
       "0  105.62  163.4  2413.6  \n",
       "1  104.38  163.6  2413.6  \n",
       "2  105.55  163.7  2415.6  \n",
       "3  105.70  163.9  2416.3  \n",
       "4  105.80  164.0  2417.1  "
      ]
     },
     "execution_count": 176,
     "metadata": {},
     "output_type": "execute_result"
    }
   ],
   "source": [
    "data.head()"
   ]
  },
  {
   "cell_type": "code",
   "execution_count": 177,
   "metadata": {
    "collapsed": true
   },
   "outputs": [],
   "source": [
    "data1 = data\n",
    "# data = data1"
   ]
  },
  {
   "cell_type": "code",
   "execution_count": 178,
   "metadata": {
    "collapsed": false
   },
   "outputs": [],
   "source": [
    "for eachday in range(60,990):\n",
    "# for eachday in range(30,32):\n",
    "#     print(data.ix[eachday,'date'],data.ix[eachday,'PB_price'])\n",
    "#     print(data.ix[eachday-1,'date'],data.ix[eachday-1,'PB_price'])\n",
    "#     print(data.ix[eachday+1,'date'],data.ix[eachday+1,'PB_price'])\n",
    "    data.ix[eachday,'tkszs_l1'] = data.ix[eachday+1,'tkszs']\n",
    "    data.ix[eachday,'tkszs_l5'] = data.ix[eachday+5,'tkszs']\n",
    "    data.ix[eachday,'tkszs_l10'] = data.ix[eachday+10,'tkszs']\n",
    "    data.ix[eachday,'tkszs_l20'] = data.ix[eachday+20,'tkszs']\n",
    "    data.ix[eachday,'tkszs_l30'] = data.ix[eachday+30,'tkszs']\n",
    "    data.ix[eachday,'tkszs_l40'] = data.ix[eachday+40,'tkszs']\n",
    "    data.ix[eachday,'tkszs_l50'] = data.ix[eachday+50,'tkszs']\n",
    "    data.ix[eachday,'tkszs_l60'] = data.ix[eachday+60,'tkszs']\n",
    "\n",
    "\n",
    "    data.ix[eachday,'PB_price_f1'] = data.ix[eachday-1,'PB_price']\n",
    "    data.ix[eachday,'PB_price_f10'] = data.ix[eachday-10,'PB_price']\n",
    "    data.ix[eachday,'PB_price_f20'] = data.ix[eachday-20,'PB_price']\n",
    "    data.ix[eachday,'PB_price_f30'] = data.ix[eachday-30,'PB_price']\n",
    "    data.ix[eachday,'PB_price_f40'] = data.ix[eachday-40,'PB_price']\n",
    "    data.ix[eachday,'PB_price_f50'] = data.ix[eachday-50,'PB_price']\n",
    "    data.ix[eachday,'PB_price_f60'] = data.ix[eachday-60,'PB_price']\n",
    "\n",
    "\n",
    "\n",
    "    data.ix[eachday,'tegang_zonghe_zhishu_f1'] = data.ix[eachday-1,'tegang_zonghe_zhishu']\n",
    "    data.ix[eachday,'tegang_zonghe_zhishu_f10'] = data.ix[eachday-10,'tegang_zonghe_zhishu']\n",
    "    data.ix[eachday,'tegang_zonghe_zhishu_f20'] = data.ix[eachday-20,'tegang_zonghe_zhishu']\n",
    "    data.ix[eachday,'tegang_zonghe_zhishu_f30'] = data.ix[eachday-30,'tegang_zonghe_zhishu']\n",
    "    data.ix[eachday,'tegang_zonghe_zhishu_f40'] = data.ix[eachday-40,'tegang_zonghe_zhishu']\n",
    "    data.ix[eachday,'tegang_zonghe_zhishu_f50'] = data.ix[eachday-50,'tegang_zonghe_zhishu']\n",
    "    data.ix[eachday,'tegang_zonghe_zhishu_f60'] = data.ix[eachday-60,'tegang_zonghe_zhishu']\n",
    "\n",
    "    data.ix[eachday,'haiyun_BDI_f1'] = data.ix[eachday-1,'haiyun_BDI']\n",
    "    data.ix[eachday,'haiyun_BDI_f10'] = data.ix[eachday-10,'haiyun_BDI']\n",
    "    data.ix[eachday,'haiyun_BDI_f20'] = data.ix[eachday-20,'haiyun_BDI']\n",
    "    data.ix[eachday,'haiyun_BDI_f30'] = data.ix[eachday-30,'haiyun_BDI']\n",
    "    data.ix[eachday,'haiyun_BDI_f40'] = data.ix[eachday-40,'haiyun_BDI']\n",
    "    data.ix[eachday,'haiyun_BDI_f50'] = data.ix[eachday-50,'haiyun_BDI']\n",
    "    data.ix[eachday,'haiyun_BDI_f60'] = data.ix[eachday-60,'haiyun_BDI']\n",
    "\n",
    "\n",
    "\n",
    "    data.ix[eachday,'meiyuan_zhishu_f1'] = data.ix[eachday-1,'meiyuan_zhishu']\n",
    "    data.ix[eachday,'meiyuan_zhishu_f10'] = data.ix[eachday-10,'meiyuan_zhishu']\n",
    "    data.ix[eachday,'meiyuan_zhishu_f20'] = data.ix[eachday-20,'meiyuan_zhishu']\n",
    "    data.ix[eachday,'meiyuan_zhishu_f30'] = data.ix[eachday-30,'meiyuan_zhishu']\n",
    "    data.ix[eachday,'meiyuan_zhishu_f40'] = data.ix[eachday-40,'meiyuan_zhishu']\n",
    "    data.ix[eachday,'meiyuan_zhishu_f50'] = data.ix[eachday-50,'meiyuan_zhishu']\n",
    "    data.ix[eachday,'meiyuan_zhishu_f60'] = data.ix[eachday-60,'meiyuan_zhishu']\n",
    "\n",
    "    data.ix[eachday,'psjgzs_f1'] = data.ix[eachday-1,'psjgzs']\n",
    "    data.ix[eachday,'psjgzs_f10'] = data.ix[eachday-10,'psjgzs']\n",
    "    data.ix[eachday,'psjgzs_f20'] = data.ix[eachday-20,'psjgzs']\n",
    "    data.ix[eachday,'psjgzs_f30'] = data.ix[eachday-30,'psjgzs']\n",
    "    data.ix[eachday,'psjgzs_f40'] = data.ix[eachday-40,'psjgzs']\n",
    "    data.ix[eachday,'psjgzs_f50'] = data.ix[eachday-50,'psjgzs']\n",
    "    data.ix[eachday,'psjgzs_f60'] = data.ix[eachday-60,'psjgzs']\n",
    "\n",
    "    data.ix[eachday,'pugang_zhishu_f1'] = data.ix[eachday-1,'pugang_zhishu']\n",
    "    data.ix[eachday,'pugang_zhishu_f10'] = data.ix[eachday-10,'pugang_zhishu']\n",
    "    data.ix[eachday,'pugang_zhishu_f20'] = data.ix[eachday-20,'pugang_zhishu']\n",
    "    data.ix[eachday,'pugang_zhishu_f30'] = data.ix[eachday-30,'pugang_zhishu']\n",
    "    data.ix[eachday,'pugang_zhishu_f40'] = data.ix[eachday-40,'pugang_zhishu']\n",
    "    data.ix[eachday,'pugang_zhishu_f50'] = data.ix[eachday-50,'pugang_zhishu']\n",
    "    data.ix[eachday,'pugang_zhishu_f60'] = data.ix[eachday-60,'pugang_zhishu']\n",
    "\n",
    "    data.ix[eachday,'tkszs_f1'] = data.ix[eachday-1,'tkszs']\n",
    "    data.ix[eachday,'tkszs_f10'] = data.ix[eachday-10,'tkszs']\n",
    "    data.ix[eachday,'tkszs_f20'] = data.ix[eachday-20,'tkszs']\n",
    "    data.ix[eachday,'tkszs_f30'] = data.ix[eachday-30,'tkszs']\n",
    "    data.ix[eachday,'tkszs_f40'] = data.ix[eachday-40,'tkszs']\n",
    "    data.ix[eachday,'tkszs_f50'] = data.ix[eachday-50,'tkszs']\n",
    "    data.ix[eachday,'tkszs_f60'] = data.ix[eachday-60,'tkszs']\n",
    "\n",
    "    data.ix[eachday,'WTI_f1'] = data.ix[eachday-1,'WTI']\n",
    "    data.ix[eachday,'WTI_f10'] = data.ix[eachday-10,'WTI']\n",
    "    data.ix[eachday,'WTI_f20'] = data.ix[eachday-20,'WTI']\n",
    "    data.ix[eachday,'WTI_f30'] = data.ix[eachday-30,'WTI']\n",
    "    data.ix[eachday,'WTI_f40'] = data.ix[eachday-40,'WTI']\n",
    "    data.ix[eachday,'WTI_f50'] = data.ix[eachday-50,'WTI']\n",
    "    data.ix[eachday,'WTI_f60'] = data.ix[eachday-60,'WTI']\n",
    "    \n",
    "    data.ix[eachday,'CRU_f1'] = data.ix[eachday-1,'CRU']\n",
    "    data.ix[eachday,'CRU_f10'] = data.ix[eachday-10,'CRU']\n",
    "    data.ix[eachday,'CRU_f20'] = data.ix[eachday-20,'CRU']\n",
    "    data.ix[eachday,'CRU_f30'] = data.ix[eachday-30,'CRU']\n",
    "    data.ix[eachday,'CRU_f40'] = data.ix[eachday-40,'CRU']\n",
    "    data.ix[eachday,'CRU_f50'] = data.ix[eachday-50,'CRU']\n",
    "    data.ix[eachday,'CRU_f60'] = data.ix[eachday-60,'CRU']\n",
    "\n",
    "    data.ix[eachday,'fgzs_f1'] = data.ix[eachday-1,'fgzs']\n",
    "    data.ix[eachday,'fgzs_f10'] = data.ix[eachday-10,'fgzs']\n",
    "    data.ix[eachday,'fgzs_f20'] = data.ix[eachday-20,'fgzs']\n",
    "    data.ix[eachday,'fgzs_f30'] = data.ix[eachday-30,'fgzs']\n",
    "    data.ix[eachday,'fgzs_f40'] = data.ix[eachday-40,'fgzs']\n",
    "    data.ix[eachday,'fgzs_f50'] = data.ix[eachday-50,'fgzs']\n",
    "    data.ix[eachday,'fgzs_f60'] = data.ix[eachday-60,'fgzs']\n",
    "\n",
    "\n",
    "    \n"
   ]
  },
  {
   "cell_type": "code",
   "execution_count": null,
   "metadata": {
    "collapsed": true
   },
   "outputs": [],
   "source": []
  },
  {
   "cell_type": "code",
   "execution_count": 179,
   "metadata": {
    "collapsed": true
   },
   "outputs": [],
   "source": [
    "data.to_csv('pb_proprocessed.csv')"
   ]
  },
  {
   "cell_type": "code",
   "execution_count": null,
   "metadata": {
    "collapsed": true
   },
   "outputs": [],
   "source": []
  },
  {
   "cell_type": "code",
   "execution_count": null,
   "metadata": {
    "collapsed": true
   },
   "outputs": [],
   "source": []
  }
 ],
 "metadata": {
  "kernelspec": {
   "display_name": "Python 3",
   "language": "python",
   "name": "python3"
  },
  "language_info": {
   "codemirror_mode": {
    "name": "ipython",
    "version": 3
   },
   "file_extension": ".py",
   "mimetype": "text/x-python",
   "name": "python",
   "nbconvert_exporter": "python",
   "pygments_lexer": "ipython3",
   "version": "3.4.4"
  }
 },
 "nbformat": 4,
 "nbformat_minor": 2
}
