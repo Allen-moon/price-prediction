{
 "cells": [
  {
   "cell_type": "code",
   "execution_count": 399,
   "metadata": {
    "collapsed": false
   },
   "outputs": [],
   "source": [
    "from time import time\n",
    "import csv\n",
    "from sklearn.cluster import k_means\n",
    "import numpy as np\n",
    "import pandas as pd\n",
    "import matplotlib.pyplot as plt\n",
    "from sklearn.cross_validation import train_test_split\n",
    "import matplotlib.pyplot as plt\n",
    "from sklearn import preprocessing\n",
    "from sklearn import svm\n",
    "from sklearn import linear_model\n",
    "from sklearn import ensemble\n",
    "from math import sqrt\n"
   ]
  },
  {
   "cell_type": "code",
   "execution_count": 400,
   "metadata": {
    "collapsed": false
   },
   "outputs": [],
   "source": [
    "data = pd.read_csv('pb_proprocessed.csv')\n"
   ]
  },
  {
   "cell_type": "code",
   "execution_count": 401,
   "metadata": {
    "collapsed": false
   },
   "outputs": [
    {
     "data": {
      "text/plain": [
       "Index(['Unnamed: 0', 'date', 'PB_price', 'tegang_zonghe_zhishu', 'haiyun_BDI',\n",
       "       'meiyuan_zhishu', 'psjgzs', 'pugang_zhishu', 'tkszs', 'WTI', 'CRU',\n",
       "       'fgzs', 'tkszs_l1', 'tkszs_l5', 'tkszs_l10', 'tkszs_l20', 'tkszs_l30',\n",
       "       'tkszs_l40', 'tkszs_l50', 'tkszs_l60', 'PB_price_f1', 'PB_price_f10',\n",
       "       'PB_price_f20', 'PB_price_f30', 'PB_price_f40', 'PB_price_f50',\n",
       "       'PB_price_f60', 'tegang_zonghe_zhishu_f1', 'tegang_zonghe_zhishu_f10',\n",
       "       'tegang_zonghe_zhishu_f20', 'tegang_zonghe_zhishu_f30',\n",
       "       'tegang_zonghe_zhishu_f40', 'tegang_zonghe_zhishu_f50',\n",
       "       'tegang_zonghe_zhishu_f60', 'haiyun_BDI_f1', 'haiyun_BDI_f10',\n",
       "       'haiyun_BDI_f20', 'haiyun_BDI_f30', 'haiyun_BDI_f40', 'haiyun_BDI_f50',\n",
       "       'haiyun_BDI_f60', 'meiyuan_zhishu_f1', 'meiyuan_zhishu_f10',\n",
       "       'meiyuan_zhishu_f20', 'meiyuan_zhishu_f30', 'meiyuan_zhishu_f40',\n",
       "       'meiyuan_zhishu_f50', 'meiyuan_zhishu_f60', 'psjgzs_f1', 'psjgzs_f10',\n",
       "       'psjgzs_f20', 'psjgzs_f30', 'psjgzs_f40', 'psjgzs_f50', 'psjgzs_f60',\n",
       "       'pugang_zhishu_f1', 'pugang_zhishu_f10', 'pugang_zhishu_f20',\n",
       "       'pugang_zhishu_f30', 'pugang_zhishu_f40', 'pugang_zhishu_f50',\n",
       "       'pugang_zhishu_f60', 'tkszs_f1', 'tkszs_f10', 'tkszs_f20', 'tkszs_f30',\n",
       "       'tkszs_f40', 'tkszs_f50', 'tkszs_f60', 'WTI_f1', 'WTI_f10', 'WTI_f20',\n",
       "       'WTI_f30', 'WTI_f40', 'WTI_f50', 'WTI_f60', 'CRU_f1', 'CRU_f10',\n",
       "       'CRU_f20', 'CRU_f30', 'CRU_f40', 'CRU_f50', 'CRU_f60', 'fgzs_f1',\n",
       "       'fgzs_f10', 'fgzs_f20', 'fgzs_f30', 'fgzs_f40', 'fgzs_f50', 'fgzs_f60'],\n",
       "      dtype='object')"
      ]
     },
     "execution_count": 401,
     "metadata": {},
     "output_type": "execute_result"
    }
   ],
   "source": [
    "data.columns"
   ]
  },
  {
   "cell_type": "code",
   "execution_count": 402,
   "metadata": {
    "collapsed": false
   },
   "outputs": [],
   "source": [
    "if data.columns[0] == 'Unnamed: 0':\n",
    "    data = data.drop('Unnamed: 0',axis=1)\n",
    "data = data.drop('date',axis=1)"
   ]
  },
  {
   "cell_type": "code",
   "execution_count": 403,
   "metadata": {
    "collapsed": false
   },
   "outputs": [],
   "source": [
    "a = data.corr()\n",
    "a.to_csv('corr.csv')"
   ]
  },
  {
   "cell_type": "code",
   "execution_count": 404,
   "metadata": {
    "collapsed": false
   },
   "outputs": [
    {
     "data": {
      "text/plain": [
       "Index(['PB_price', 'tegang_zonghe_zhishu', 'haiyun_BDI', 'meiyuan_zhishu',\n",
       "       'psjgzs', 'pugang_zhishu', 'tkszs', 'WTI', 'CRU', 'fgzs', 'tkszs_l1',\n",
       "       'tkszs_l5', 'tkszs_l10', 'tkszs_l20', 'tkszs_l30', 'tkszs_l40',\n",
       "       'tkszs_l50', 'tkszs_l60', 'PB_price_f1', 'PB_price_f10'],\n",
       "      dtype='object')"
      ]
     },
     "execution_count": 404,
     "metadata": {},
     "output_type": "execute_result"
    }
   ],
   "source": [
    "data.columns[0:20]"
   ]
  },
  {
   "cell_type": "code",
   "execution_count": 408,
   "metadata": {
    "collapsed": false
   },
   "outputs": [],
   "source": [
    "#,'PB_price_l7'\n",
    "columns = list(data.columns)\n",
    "# output = ['tkszs_l10','tkszs_l10','tkszs_l30','tkszs_l40','tkszs_l50','tkszs_l60']\n",
    "output = ['tkszs_l10','tkszs_l10']\n",
    "columns_feature=columns.copy()\n",
    "out_and_drop = ['tkszs_l1','tkszs_l5','tkszs_l10','tkszs_l20','tkszs_l30','tkszs_l40',\n",
    "                'tkszs_l50','tkszs_l60']\n",
    "for col in out_and_drop:\n",
    "    columns_feature.remove(col)\n",
    "    X = data[columns_feature]\n",
    "Y = data[output]\n",
    "Y_array=np.array(Y)\n",
    "origal_mean=Y_array.mean(axis=0)#0表示列，1表示行\n",
    "origal_std=Y_array.std(axis=0)\n",
    "data_scale=preprocessing.scale(np.array(data))\n",
    "data_scale_df=pd.DataFrame(data_scale,columns=columns)\n",
    "X_scale=data_scale_df[columns_feature]\n",
    "Y_scale=data_scale_df[output]\n"
   ]
  },
  {
   "cell_type": "code",
   "execution_count": null,
   "metadata": {
    "collapsed": true
   },
   "outputs": [],
   "source": [
    "x_train, x_test, y_train, y_test = train_test_split(X_scale,Y_scale,test_size=0.05,random_state=0)"
   ]
  },
  {
   "cell_type": "code",
   "execution_count": 406,
   "metadata": {
    "collapsed": false
   },
   "outputs": [],
   "source": [
    "x_train = X_scale[0:900]\n",
    "y_train = X_scale[0:900]\n",
    "x_test = Y_scale[900:928]\n",
    "y_test = Y_scale[900:928]"
   ]
  },
  {
   "cell_type": "code",
   "execution_count": 412,
   "metadata": {
    "collapsed": false
   },
   "outputs": [
    {
     "data": {
      "text/html": [
       "<div>\n",
       "<table border=\"1\" class=\"dataframe\">\n",
       "  <thead>\n",
       "    <tr style=\"text-align: right;\">\n",
       "      <th></th>\n",
       "      <th>tkszs_l10</th>\n",
       "      <th>tkszs_l10</th>\n",
       "    </tr>\n",
       "  </thead>\n",
       "  <tbody>\n",
       "    <tr>\n",
       "      <th>687</th>\n",
       "      <td>-0.752463</td>\n",
       "      <td>-0.752463</td>\n",
       "    </tr>\n",
       "    <tr>\n",
       "      <th>331</th>\n",
       "      <td>0.294310</td>\n",
       "      <td>0.294310</td>\n",
       "    </tr>\n",
       "    <tr>\n",
       "      <th>564</th>\n",
       "      <td>-0.955064</td>\n",
       "      <td>-0.955064</td>\n",
       "    </tr>\n",
       "    <tr>\n",
       "      <th>366</th>\n",
       "      <td>0.129228</td>\n",
       "      <td>0.129228</td>\n",
       "    </tr>\n",
       "    <tr>\n",
       "      <th>372</th>\n",
       "      <td>0.046686</td>\n",
       "      <td>0.046686</td>\n",
       "    </tr>\n",
       "    <tr>\n",
       "      <th>700</th>\n",
       "      <td>-0.752463</td>\n",
       "      <td>-0.752463</td>\n",
       "    </tr>\n",
       "    <tr>\n",
       "      <th>434</th>\n",
       "      <td>-0.302238</td>\n",
       "      <td>-0.302238</td>\n",
       "    </tr>\n",
       "    <tr>\n",
       "      <th>285</th>\n",
       "      <td>0.328077</td>\n",
       "      <td>0.328077</td>\n",
       "    </tr>\n",
       "    <tr>\n",
       "      <th>644</th>\n",
       "      <td>-0.587380</td>\n",
       "      <td>-0.587380</td>\n",
       "    </tr>\n",
       "    <tr>\n",
       "      <th>785</th>\n",
       "      <td>-1.063869</td>\n",
       "      <td>-1.063869</td>\n",
       "    </tr>\n",
       "    <tr>\n",
       "      <th>685</th>\n",
       "      <td>-0.763719</td>\n",
       "      <td>-0.763719</td>\n",
       "    </tr>\n",
       "    <tr>\n",
       "      <th>441</th>\n",
       "      <td>-0.290982</td>\n",
       "      <td>-0.290982</td>\n",
       "    </tr>\n",
       "    <tr>\n",
       "      <th>702</th>\n",
       "      <td>-0.767470</td>\n",
       "      <td>-0.767470</td>\n",
       "    </tr>\n",
       "    <tr>\n",
       "      <th>230</th>\n",
       "      <td>0.823325</td>\n",
       "      <td>0.823325</td>\n",
       "    </tr>\n",
       "    <tr>\n",
       "      <th>358</th>\n",
       "      <td>0.065446</td>\n",
       "      <td>0.065446</td>\n",
       "    </tr>\n",
       "    <tr>\n",
       "      <th>729</th>\n",
       "      <td>-0.696185</td>\n",
       "      <td>-0.696185</td>\n",
       "    </tr>\n",
       "    <tr>\n",
       "      <th>200</th>\n",
       "      <td>1.033430</td>\n",
       "      <td>1.033430</td>\n",
       "    </tr>\n",
       "    <tr>\n",
       "      <th>823</th>\n",
       "      <td>-1.337755</td>\n",
       "      <td>-1.337755</td>\n",
       "    </tr>\n",
       "    <tr>\n",
       "      <th>871</th>\n",
       "      <td>-1.195184</td>\n",
       "      <td>-1.195184</td>\n",
       "    </tr>\n",
       "    <tr>\n",
       "      <th>416</th>\n",
       "      <td>-0.144659</td>\n",
       "      <td>-0.144659</td>\n",
       "    </tr>\n",
       "    <tr>\n",
       "      <th>317</th>\n",
       "      <td>0.388107</td>\n",
       "      <td>0.388107</td>\n",
       "    </tr>\n",
       "    <tr>\n",
       "      <th>725</th>\n",
       "      <td>-0.673674</td>\n",
       "      <td>-0.673674</td>\n",
       "    </tr>\n",
       "    <tr>\n",
       "      <th>60</th>\n",
       "      <td>1.832579</td>\n",
       "      <td>1.832579</td>\n",
       "    </tr>\n",
       "    <tr>\n",
       "      <th>803</th>\n",
       "      <td>-1.232703</td>\n",
       "      <td>-1.232703</td>\n",
       "    </tr>\n",
       "    <tr>\n",
       "      <th>582</th>\n",
       "      <td>-0.895034</td>\n",
       "      <td>-0.895034</td>\n",
       "    </tr>\n",
       "    <tr>\n",
       "      <th>830</th>\n",
       "      <td>-1.281477</td>\n",
       "      <td>-1.281477</td>\n",
       "    </tr>\n",
       "    <tr>\n",
       "      <th>395</th>\n",
       "      <td>0.080453</td>\n",
       "      <td>0.080453</td>\n",
       "    </tr>\n",
       "    <tr>\n",
       "      <th>403</th>\n",
       "      <td>0.012920</td>\n",
       "      <td>0.012920</td>\n",
       "    </tr>\n",
       "    <tr>\n",
       "      <th>103</th>\n",
       "      <td>1.705015</td>\n",
       "      <td>1.705015</td>\n",
       "    </tr>\n",
       "    <tr>\n",
       "      <th>479</th>\n",
       "      <td>-0.343509</td>\n",
       "      <td>-0.343509</td>\n",
       "    </tr>\n",
       "    <tr>\n",
       "      <th>...</th>\n",
       "      <td>...</td>\n",
       "      <td>...</td>\n",
       "    </tr>\n",
       "    <tr>\n",
       "      <th>72</th>\n",
       "      <td>1.783804</td>\n",
       "      <td>1.783804</td>\n",
       "    </tr>\n",
       "    <tr>\n",
       "      <th>845</th>\n",
       "      <td>-1.202688</td>\n",
       "      <td>-1.202688</td>\n",
       "    </tr>\n",
       "    <tr>\n",
       "      <th>537</th>\n",
       "      <td>-0.621147</td>\n",
       "      <td>-0.621147</td>\n",
       "    </tr>\n",
       "    <tr>\n",
       "      <th>677</th>\n",
       "      <td>-0.898786</td>\n",
       "      <td>-0.898786</td>\n",
       "    </tr>\n",
       "    <tr>\n",
       "      <th>849</th>\n",
       "      <td>-1.251462</td>\n",
       "      <td>-1.251462</td>\n",
       "    </tr>\n",
       "    <tr>\n",
       "      <th>912</th>\n",
       "      <td>-0.771222</td>\n",
       "      <td>-0.771222</td>\n",
       "    </tr>\n",
       "    <tr>\n",
       "      <th>174</th>\n",
       "      <td>0.860843</td>\n",
       "      <td>0.860843</td>\n",
       "    </tr>\n",
       "    <tr>\n",
       "      <th>87</th>\n",
       "      <td>1.787556</td>\n",
       "      <td>1.787556</td>\n",
       "    </tr>\n",
       "    <tr>\n",
       "      <th>551</th>\n",
       "      <td>-0.669922</td>\n",
       "      <td>-0.669922</td>\n",
       "    </tr>\n",
       "    <tr>\n",
       "      <th>486</th>\n",
       "      <td>-0.426050</td>\n",
       "      <td>-0.426050</td>\n",
       "    </tr>\n",
       "    <tr>\n",
       "      <th>705</th>\n",
       "      <td>-0.812493</td>\n",
       "      <td>-0.812493</td>\n",
       "    </tr>\n",
       "    <tr>\n",
       "      <th>314</th>\n",
       "      <td>0.388107</td>\n",
       "      <td>0.388107</td>\n",
       "    </tr>\n",
       "    <tr>\n",
       "      <th>396</th>\n",
       "      <td>0.076701</td>\n",
       "      <td>0.076701</td>\n",
       "    </tr>\n",
       "    <tr>\n",
       "      <th>600</th>\n",
       "      <td>-0.681177</td>\n",
       "      <td>-0.681177</td>\n",
       "    </tr>\n",
       "    <tr>\n",
       "      <th>472</th>\n",
       "      <td>-0.362268</td>\n",
       "      <td>-0.362268</td>\n",
       "    </tr>\n",
       "    <tr>\n",
       "      <th>70</th>\n",
       "      <td>1.783804</td>\n",
       "      <td>1.783804</td>\n",
       "    </tr>\n",
       "    <tr>\n",
       "      <th>599</th>\n",
       "      <td>-0.699937</td>\n",
       "      <td>-0.699937</td>\n",
       "    </tr>\n",
       "    <tr>\n",
       "      <th>804</th>\n",
       "      <td>-1.258966</td>\n",
       "      <td>-1.258966</td>\n",
       "    </tr>\n",
       "    <tr>\n",
       "      <th>754</th>\n",
       "      <td>-0.782478</td>\n",
       "      <td>-0.782478</td>\n",
       "    </tr>\n",
       "    <tr>\n",
       "      <th>277</th>\n",
       "      <td>0.260543</td>\n",
       "      <td>0.260543</td>\n",
       "    </tr>\n",
       "    <tr>\n",
       "      <th>723</th>\n",
       "      <td>-0.673674</td>\n",
       "      <td>-0.673674</td>\n",
       "    </tr>\n",
       "    <tr>\n",
       "      <th>9</th>\n",
       "      <td>1.847586</td>\n",
       "      <td>1.847586</td>\n",
       "    </tr>\n",
       "    <tr>\n",
       "      <th>359</th>\n",
       "      <td>0.084205</td>\n",
       "      <td>0.084205</td>\n",
       "    </tr>\n",
       "    <tr>\n",
       "      <th>707</th>\n",
       "      <td>-0.819997</td>\n",
       "      <td>-0.819997</td>\n",
       "    </tr>\n",
       "    <tr>\n",
       "      <th>763</th>\n",
       "      <td>-0.853764</td>\n",
       "      <td>-0.853764</td>\n",
       "    </tr>\n",
       "    <tr>\n",
       "      <th>835</th>\n",
       "      <td>-1.217695</td>\n",
       "      <td>-1.217695</td>\n",
       "    </tr>\n",
       "    <tr>\n",
       "      <th>192</th>\n",
       "      <td>0.913370</td>\n",
       "      <td>0.913370</td>\n",
       "    </tr>\n",
       "    <tr>\n",
       "      <th>629</th>\n",
       "      <td>-0.572373</td>\n",
       "      <td>-0.572373</td>\n",
       "    </tr>\n",
       "    <tr>\n",
       "      <th>559</th>\n",
       "      <td>-0.861267</td>\n",
       "      <td>-0.861267</td>\n",
       "    </tr>\n",
       "    <tr>\n",
       "      <th>684</th>\n",
       "      <td>-0.752463</td>\n",
       "      <td>-0.752463</td>\n",
       "    </tr>\n",
       "  </tbody>\n",
       "</table>\n",
       "<p>882 rows × 2 columns</p>\n",
       "</div>"
      ],
      "text/plain": [
       "     tkszs_l10  tkszs_l10\n",
       "687  -0.752463  -0.752463\n",
       "331   0.294310   0.294310\n",
       "564  -0.955064  -0.955064\n",
       "366   0.129228   0.129228\n",
       "372   0.046686   0.046686\n",
       "700  -0.752463  -0.752463\n",
       "434  -0.302238  -0.302238\n",
       "285   0.328077   0.328077\n",
       "644  -0.587380  -0.587380\n",
       "785  -1.063869  -1.063869\n",
       "685  -0.763719  -0.763719\n",
       "441  -0.290982  -0.290982\n",
       "702  -0.767470  -0.767470\n",
       "230   0.823325   0.823325\n",
       "358   0.065446   0.065446\n",
       "729  -0.696185  -0.696185\n",
       "200   1.033430   1.033430\n",
       "823  -1.337755  -1.337755\n",
       "871  -1.195184  -1.195184\n",
       "416  -0.144659  -0.144659\n",
       "317   0.388107   0.388107\n",
       "725  -0.673674  -0.673674\n",
       "60    1.832579   1.832579\n",
       "803  -1.232703  -1.232703\n",
       "582  -0.895034  -0.895034\n",
       "830  -1.281477  -1.281477\n",
       "395   0.080453   0.080453\n",
       "403   0.012920   0.012920\n",
       "103   1.705015   1.705015\n",
       "479  -0.343509  -0.343509\n",
       "..         ...        ...\n",
       "72    1.783804   1.783804\n",
       "845  -1.202688  -1.202688\n",
       "537  -0.621147  -0.621147\n",
       "677  -0.898786  -0.898786\n",
       "849  -1.251462  -1.251462\n",
       "912  -0.771222  -0.771222\n",
       "174   0.860843   0.860843\n",
       "87    1.787556   1.787556\n",
       "551  -0.669922  -0.669922\n",
       "486  -0.426050  -0.426050\n",
       "705  -0.812493  -0.812493\n",
       "314   0.388107   0.388107\n",
       "396   0.076701   0.076701\n",
       "600  -0.681177  -0.681177\n",
       "472  -0.362268  -0.362268\n",
       "70    1.783804   1.783804\n",
       "599  -0.699937  -0.699937\n",
       "804  -1.258966  -1.258966\n",
       "754  -0.782478  -0.782478\n",
       "277   0.260543   0.260543\n",
       "723  -0.673674  -0.673674\n",
       "9     1.847586   1.847586\n",
       "359   0.084205   0.084205\n",
       "707  -0.819997  -0.819997\n",
       "763  -0.853764  -0.853764\n",
       "835  -1.217695  -1.217695\n",
       "192   0.913370   0.913370\n",
       "629  -0.572373  -0.572373\n",
       "559  -0.861267  -0.861267\n",
       "684  -0.752463  -0.752463\n",
       "\n",
       "[882 rows x 2 columns]"
      ]
     },
     "execution_count": 412,
     "metadata": {},
     "output_type": "execute_result"
    }
   ],
   "source": [
    "y_train"
   ]
  },
  {
   "cell_type": "code",
   "execution_count": 409,
   "metadata": {
    "collapsed": false
   },
   "outputs": [
    {
     "name": "stdout",
     "output_type": "stream",
     "text": [
      "47 2\n",
      "score 1.0\n"
     ]
    }
   ],
   "source": [
    "# x_train, x_test, y_train, y_test = train_test_split(X_scale,Y_scale,test_size=0.05,random_state=0)\n",
    "def try_different_method(clf):\n",
    "#     clf.fit(x_train,y_train.values.ravel())\n",
    "    clf.fit(x_train,y_train)\n",
    "    score = clf.score(x_test, y_test)\n",
    "    result = clf.predict(x_test)\n",
    "    return score,result\n",
    "# def try_different_method(clf):\n",
    "#     clf.fit(x_train,y_train)\n",
    "#     score = clf.score(x_test, y_test)\n",
    "#     result = clf.predict(x_test)\n",
    "#     result_shuchu = clf.predict(x_shuchu)\n",
    "#     return score,result,result_shuchu\n",
    "rf =ensemble.RandomForestRegressor(n_estimators=20)\n",
    "linear_reg = linear_model.LinearRegression()\n",
    "score,y_predict=try_different_method(rf)\n",
    "# score,y_predict,result_shuchu=try_different_method(rf)\n",
    "y_test_1 = np.array(y_test)\n",
    "row_num=y_predict.shape[0]\n",
    "col_num=y_predict.shape[1]\n",
    "print(row_num,col_num)\n",
    "y_test_2 =  y_test_1.copy()\n",
    "flag = 0\n",
    "for xi in range(row_num):\n",
    "    for yi in range(col_num):\n",
    "\n",
    "        y_predict[xi][yi]=y_predict[xi][yi]*origal_std[yi]+origal_mean[yi]\n",
    "        y_test_1[xi][yi]=y_test_1[xi][yi]*origal_std[yi]+origal_mean[yi]\n",
    "        y_test_2[xi][yi] = y_test_1[xi][yi]\n",
    "        # print(y_test[xi][yi])\n",
    "        y_test_1[xi][yi] = round(y_test_1[xi][yi], 1)\n",
    "\n",
    "        y_test_1[xi][yi] = y_predict[xi][yi] - y_test_1[xi][yi] \n",
    "        y_test_1[xi][yi] = round(y_test_1[xi][yi], 1)\n",
    "\n",
    "#         cha = y_test_1[xi][yi]/y_predict[xi][yi]\n",
    "        # print(y_test_1[xi][yi])\n",
    "        cha = y_test_1[xi][yi]\n",
    "#         if np.fabs(cha)<0.005:\n",
    "#             flag = flag + 1\n",
    "        if cha< 5:\n",
    "            flag = flag + 1\n",
    "print('score',flag/94)\n",
    "# print('score',flag/170)"
   ]
  },
  {
   "cell_type": "code",
   "execution_count": 378,
   "metadata": {
    "collapsed": false
   },
   "outputs": [
    {
     "name": "stdout",
     "output_type": "stream",
     "text": [
      "score 0.17938931297709923\n"
     ]
    }
   ],
   "source": [
    "flag=0\n",
    "for xi in range(row_num):\n",
    "    for yi in range(col_num):\n",
    "\n",
    "        if y_test_1[xi][yi]< 10 and y_test_1[xi][yi]> -10:\n",
    "            flag = flag + 1\n",
    "print('score',flag/524)"
   ]
  },
  {
   "cell_type": "code",
   "execution_count": 379,
   "metadata": {
    "collapsed": false
   },
   "outputs": [
    {
     "data": {
      "image/png": "[encoded data removed]",
      "text/plain": [
       "<matplotlib.figure.Figure at 0x7f3ef6c57dd8>"
      ]
     },
     "metadata": {},
     "output_type": "display_data"
    }
   ],
   "source": [
    "y_predict=y_predict[:,0]\n",
    "y_test_2=y_test_2[:,0]\n",
    "plt.figure()\n",
    "plt.plot(np.arange(len(y_predict)),y_test_2,'go-',label='true value')\n",
    "plt.plot(np.arange(len(y_predict)),y_predict,'ro-',label='predict value')\n",
    "plt.title('score: %f'%score)\n",
    "plt.legend()\n",
    "plt.show()"
   ]
  },
  {
   "cell_type": "code",
   "execution_count": 347,
   "metadata": {
    "collapsed": false
   },
   "outputs": [],
   "source": [
    "shuchu = pd.read_csv('pb_proprocessed_test.csv')\n",
    "if data.columns[0] == 'Unnamed: 0':\n",
    "    data = data.drop('Unnamed: 0',axis=1)\n",
    "shuchu = shuchu.drop(['Unnamed: 0','date'],axis=1)\n",
    "# data = data.drop('date',axis=1)\n",
    "a1 = np.array(shuchu)\n",
    "a2 = np.array(data)\n",
    "mean=a2.mean(axis=0)#0表示列，1表示行\n",
    "std=a2.std(axis=0)\n",
    "# print(a1,origal_mean,origal_std)\n",
    "row=a1.shape[0]\n",
    "col=a1.shape[1]\n",
    "# print(row,col)\n",
    "for xi in range(row):\n",
    "    for yi in range(col):\n",
    "\n",
    "        a1[xi][yi]=(a1[xi][yi]-mean[yi])/std[yi]\n",
    "        # print(a1[xi][yi])\n",
    "a3=pd.DataFrame(a1,columns=columns)\n",
    "x_shuchu = a3[columns_feature]\n",
    "y_shuchu = a3[output]\n",
    "y_shuchu = np.array(y_shuchu)"
   ]
  },
  {
   "cell_type": "code",
   "execution_count": 348,
   "metadata": {
    "collapsed": false
   },
   "outputs": [
    {
     "name": "stdout",
     "output_type": "stream",
     "text": [
      "52.805 56.3\n",
      "52.685 61.7\n",
      "52.85 70.0\n",
      "52.98 67.0\n",
      "53.935 57.6\n",
      "54.395 53.3\n"
     ]
    }
   ],
   "source": [
    "for xi in range(1):\n",
    "    for yi in range(6):\n",
    "\n",
    "        # a1[xi][yi]=(a1[xi][yi]-mean[yi])/std[yi]y_shuchu\n",
    "        result_shuchu[xi][yi]=result_shuchu[xi][yi]*origal_std[yi]+origal_mean[yi]\n",
    "        y_shuchu[xi][yi]=y_shuchu[xi][yi]*origal_std[yi]+origal_mean[yi]\n",
    "        print(result_shuchu[xi][yi],y_shuchu[xi][yi])"
   ]
  },
  {
   "cell_type": "code",
   "execution_count": 349,
   "metadata": {
    "collapsed": false
   },
   "outputs": [
    {
     "data": {
      "image/png": "[encoded data removed]",
      "text/plain": [
       "<matplotlib.figure.Figure at 0x7f3ef87d8cf8>"
      ]
     },
     "metadata": {},
     "output_type": "display_data"
    }
   ],
   "source": [
    "\n",
    "plt.figure()\n",
    "plt.plot(np.arange(6),y_shuchu[0],'go-',label='true value')\n",
    "plt.plot(np.arange(6),result_shuchu[0],'ro-',label='predict value')\n",
    "# plt.title('score: %f'%score)\n",
    "plt.legend()\n",
    "plt.show()"
   ]
  },
  {
   "cell_type": "code",
   "execution_count": 350,
   "metadata": {
    "collapsed": false
   },
   "outputs": [
    {
     "data": {
      "text/plain": [
       "array([ 52.805,  52.685,  52.85 ,  52.98 ,  53.935,  54.395])"
      ]
     },
     "execution_count": 350,
     "metadata": {},
     "output_type": "execute_result"
    }
   ],
   "source": [
    "result_shuchu[0]"
   ]
  },
  {
   "cell_type": "code",
   "execution_count": 337,
   "metadata": {
    "collapsed": false
   },
   "outputs": [
    {
     "data": {
      "text/plain": [
       "array([0, 1, 2, 3, 4])"
      ]
     },
     "execution_count": 337,
     "metadata": {},
     "output_type": "execute_result"
    }
   ],
   "source": [
    "np.arange(5)"
   ]
  },
  {
   "cell_type": "code",
   "execution_count": 338,
   "metadata": {
    "collapsed": false
   },
   "outputs": [
    {
     "data": {
      "text/plain": [
       "array([0, 1, 2, 3, 4])"
      ]
     },
     "execution_count": 338,
     "metadata": {},
     "output_type": "execute_result"
    }
   ],
   "source": [
    "np.arange(5)"
   ]
  },
  {
   "cell_type": "code",
   "execution_count": 339,
   "metadata": {
    "collapsed": false
   },
   "outputs": [
    {
     "data": {
      "text/plain": [
       "array([ 56.3,  61.7,  70. ,  67. ,  57.6,  53.3])"
      ]
     },
     "execution_count": 339,
     "metadata": {},
     "output_type": "execute_result"
    }
   ],
   "source": [
    "y_shuchu[0]"
   ]
  },
  {
   "cell_type": "code",
   "execution_count": null,
   "metadata": {
    "collapsed": false
   },
   "outputs": [],
   "source": []
  },
  {
   "cell_type": "code",
   "execution_count": null,
   "metadata": {
    "collapsed": true
   },
   "outputs": [],
   "source": []
  },
  {
   "cell_type": "code",
   "execution_count": null,
   "metadata": {
    "collapsed": true
   },
   "outputs": [],
   "source": []
  },
  {
   "cell_type": "code",
   "execution_count": null,
   "metadata": {
    "collapsed": true
   },
   "outputs": [],
   "source": []
  },
  {
   "cell_type": "code",
   "execution_count": null,
   "metadata": {
    "collapsed": true
   },
   "outputs": [],
   "source": []
  },
  {
   "cell_type": "code",
   "execution_count": null,
   "metadata": {
    "collapsed": true
   },
   "outputs": [],
   "source": []
  },
  {
   "cell_type": "code",
   "execution_count": null,
   "metadata": {
    "collapsed": true
   },
   "outputs": [],
   "source": []
  },
  {
   "cell_type": "code",
   "execution_count": null,
   "metadata": {
    "collapsed": true
   },
   "outputs": [],
   "source": []
  }
 ],
 "metadata": {
  "kernelspec": {
   "display_name": "Python 3",
   "language": "python",
   "name": "python3"
  },
  "language_info": {
   "codemirror_mode": {
    "name": "ipython",
    "version": 3
   },
   "file_extension": ".py",
   "mimetype": "text/x-python",
   "name": "python",
   "nbconvert_exporter": "python",
   "pygments_lexer": "ipython3",
   "version": "3.4.4"
  }
 },
 "nbformat": 4,
 "nbformat_minor": 2
}
